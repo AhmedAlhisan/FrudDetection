{
  "cells": [
    {
      "cell_type": "markdown",
      "metadata": {
        "id": "7bzqbXTJd7EG"
      },
      "source": [
        "Confrimed by Omar"
      ]
    },
    {
      "cell_type": "code",
      "execution_count": 1,
      "metadata": {
        "colab": {
          "base_uri": "https://localhost:8080/"
        },
        "id": "iUm6LmTtk4nk",
        "outputId": "f6fc5547-c260-4c04-836e-97dd9900bf92"
      },
      "outputs": [
        {
          "output_type": "stream",
          "name": "stdout",
          "text": [
            "Thu Apr 17 09:56:18 2025       \n",
            "+-----------------------------------------------------------------------------------------+\n",
            "| NVIDIA-SMI 550.54.15              Driver Version: 550.54.15      CUDA Version: 12.4     |\n",
            "|-----------------------------------------+------------------------+----------------------+\n",
            "| GPU  Name                 Persistence-M | Bus-Id          Disp.A | Volatile Uncorr. ECC |\n",
            "| Fan  Temp   Perf          Pwr:Usage/Cap |           Memory-Usage | GPU-Util  Compute M. |\n",
            "|                                         |                        |               MIG M. |\n",
            "|=========================================+========================+======================|\n",
            "|   0  Tesla T4                       Off |   00000000:00:04.0 Off |                    0 |\n",
            "| N/A   60C    P8             12W /   70W |       0MiB /  15360MiB |      0%      Default |\n",
            "|                                         |                        |                  N/A |\n",
            "+-----------------------------------------+------------------------+----------------------+\n",
            "                                                                                         \n",
            "+-----------------------------------------------------------------------------------------+\n",
            "| Processes:                                                                              |\n",
            "|  GPU   GI   CI        PID   Type   Process name                              GPU Memory |\n",
            "|        ID   ID                                                               Usage      |\n",
            "|=========================================================================================|\n",
            "|  No running processes found                                                             |\n",
            "+-----------------------------------------------------------------------------------------+\n"
          ]
        }
      ],
      "source": [
        "!nvidia-smi  # this should display information about available GPUs"
      ]
    },
    {
      "cell_type": "code",
      "execution_count": 2,
      "metadata": {
        "colab": {
          "base_uri": "https://localhost:8080/"
        },
        "id": "2Hh405qoUVfN",
        "outputId": "9d0c1730-390a-481e-c3ce-9659b64ecff8"
      },
      "outputs": [
        {
          "output_type": "stream",
          "name": "stdout",
          "text": [
            "Dataset URL: https://www.kaggle.com/datasets/ealaxi/paysim1\n",
            "License(s): CC-BY-SA-4.0\n",
            "Archive:  paysim1.zip\n",
            "  inflating: PS_20174392719_1491204439457_log.csv  Y\n",
            "\n"
          ]
        }
      ],
      "source": [
        "import os\n",
        "os.environ['KAGGLE_USERNAME'] = 'ahmedalhisan'\n",
        "os.environ['KAGGLE_KEY'] = '159de2c1f4bed2ec0f5a2fd3e803d115'\n",
        "\n",
        "!kaggle datasets download -d ealaxi/paysim1\n",
        "!unzip paysim1.zip\n"
      ]
    },
    {
      "cell_type": "code",
      "execution_count": 3,
      "metadata": {
        "id": "X-C8B9YmdkfZ"
      },
      "outputs": [],
      "source": [
        "%load_ext cudf.pandas"
      ]
    },
    {
      "cell_type": "code",
      "execution_count": 4,
      "metadata": {
        "colab": {
          "base_uri": "https://localhost:8080/",
          "height": 226
        },
        "id": "6NtjuMZAeLVa",
        "outputId": "8c5f36a1-d429-4956-b092-14151bd63766"
      },
      "outputs": [
        {
          "output_type": "execute_result",
          "data": {
            "text/plain": [
              "   step      type    amount     nameOrig  oldbalanceOrg  newbalanceOrig  \\\n",
              "0     1   PAYMENT   9839.64  C1231006815       170136.0       160296.36   \n",
              "1     1   PAYMENT   1864.28  C1666544295        21249.0        19384.72   \n",
              "2     1  TRANSFER    181.00  C1305486145          181.0            0.00   \n",
              "3     1  CASH_OUT    181.00   C840083671          181.0            0.00   \n",
              "4     1   PAYMENT  11668.14  C2048537720        41554.0        29885.86   \n",
              "\n",
              "      nameDest  oldbalanceDest  newbalanceDest  isFraud  isFlaggedFraud  \n",
              "0  M1979787155             0.0             0.0        0               0  \n",
              "1  M2044282225             0.0             0.0        0               0  \n",
              "2   C553264065             0.0             0.0        1               0  \n",
              "3    C38997010         21182.0             0.0        1               0  \n",
              "4  M1230701703             0.0             0.0        0               0  "
            ],
            "text/html": [
              "<div>\n",
              "<style scoped>\n",
              "    .dataframe tbody tr th:only-of-type {\n",
              "        vertical-align: middle;\n",
              "    }\n",
              "\n",
              "    .dataframe tbody tr th {\n",
              "        vertical-align: top;\n",
              "    }\n",
              "\n",
              "    .dataframe thead th {\n",
              "        text-align: right;\n",
              "    }\n",
              "</style>\n",
              "<table border=\"1\" class=\"dataframe\">\n",
              "  <thead>\n",
              "    <tr style=\"text-align: right;\">\n",
              "      <th></th>\n",
              "      <th>step</th>\n",
              "      <th>type</th>\n",
              "      <th>amount</th>\n",
              "      <th>nameOrig</th>\n",
              "      <th>oldbalanceOrg</th>\n",
              "      <th>newbalanceOrig</th>\n",
              "      <th>nameDest</th>\n",
              "      <th>oldbalanceDest</th>\n",
              "      <th>newbalanceDest</th>\n",
              "      <th>isFraud</th>\n",
              "      <th>isFlaggedFraud</th>\n",
              "    </tr>\n",
              "  </thead>\n",
              "  <tbody>\n",
              "    <tr>\n",
              "      <th>0</th>\n",
              "      <td>1</td>\n",
              "      <td>PAYMENT</td>\n",
              "      <td>9839.64</td>\n",
              "      <td>C1231006815</td>\n",
              "      <td>170136.0</td>\n",
              "      <td>160296.36</td>\n",
              "      <td>M1979787155</td>\n",
              "      <td>0.0</td>\n",
              "      <td>0.0</td>\n",
              "      <td>0</td>\n",
              "      <td>0</td>\n",
              "    </tr>\n",
              "    <tr>\n",
              "      <th>1</th>\n",
              "      <td>1</td>\n",
              "      <td>PAYMENT</td>\n",
              "      <td>1864.28</td>\n",
              "      <td>C1666544295</td>\n",
              "      <td>21249.0</td>\n",
              "      <td>19384.72</td>\n",
              "      <td>M2044282225</td>\n",
              "      <td>0.0</td>\n",
              "      <td>0.0</td>\n",
              "      <td>0</td>\n",
              "      <td>0</td>\n",
              "    </tr>\n",
              "    <tr>\n",
              "      <th>2</th>\n",
              "      <td>1</td>\n",
              "      <td>TRANSFER</td>\n",
              "      <td>181.00</td>\n",
              "      <td>C1305486145</td>\n",
              "      <td>181.0</td>\n",
              "      <td>0.00</td>\n",
              "      <td>C553264065</td>\n",
              "      <td>0.0</td>\n",
              "      <td>0.0</td>\n",
              "      <td>1</td>\n",
              "      <td>0</td>\n",
              "    </tr>\n",
              "    <tr>\n",
              "      <th>3</th>\n",
              "      <td>1</td>\n",
              "      <td>CASH_OUT</td>\n",
              "      <td>181.00</td>\n",
              "      <td>C840083671</td>\n",
              "      <td>181.0</td>\n",
              "      <td>0.00</td>\n",
              "      <td>C38997010</td>\n",
              "      <td>21182.0</td>\n",
              "      <td>0.0</td>\n",
              "      <td>1</td>\n",
              "      <td>0</td>\n",
              "    </tr>\n",
              "    <tr>\n",
              "      <th>4</th>\n",
              "      <td>1</td>\n",
              "      <td>PAYMENT</td>\n",
              "      <td>11668.14</td>\n",
              "      <td>C2048537720</td>\n",
              "      <td>41554.0</td>\n",
              "      <td>29885.86</td>\n",
              "      <td>M1230701703</td>\n",
              "      <td>0.0</td>\n",
              "      <td>0.0</td>\n",
              "      <td>0</td>\n",
              "      <td>0</td>\n",
              "    </tr>\n",
              "  </tbody>\n",
              "</table>\n",
              "</div>"
            ]
          },
          "metadata": {},
          "execution_count": 4
        }
      ],
      "source": [
        "\n",
        "import cudf\n",
        "\n",
        "df = cudf.read_csv('/content/PS_20174392719_1491204439457_log.csv')\n",
        "\n",
        "df.head()\n"
      ]
    },
    {
      "cell_type": "code",
      "execution_count": 5,
      "metadata": {
        "colab": {
          "base_uri": "https://localhost:8080/"
        },
        "id": "kFm07eOuepyC",
        "outputId": "a61b3b51-91d9-4716-9e58-1ffe3d2a492d"
      },
      "outputs": [
        {
          "output_type": "execute_result",
          "data": {
            "text/plain": [
              "6362620"
            ]
          },
          "metadata": {},
          "execution_count": 5
        }
      ],
      "source": [
        "len(df)"
      ]
    },
    {
      "cell_type": "code",
      "execution_count": 6,
      "metadata": {
        "colab": {
          "base_uri": "https://localhost:8080/"
        },
        "id": "aCdvWcH_etor",
        "outputId": "ab624741-1243-413e-bf82-bbe9f4cd2024"
      },
      "outputs": [
        {
          "output_type": "stream",
          "name": "stdout",
          "text": [
            "Number of Transactions: 6362620\n"
          ]
        }
      ],
      "source": [
        "print('Number of Transactions:',df.shape[0])\n"
      ]
    },
    {
      "cell_type": "code",
      "execution_count": 7,
      "metadata": {
        "colab": {
          "base_uri": "https://localhost:8080/"
        },
        "id": "a9U0rV1cfopx",
        "outputId": "e9449d13-489f-4524-b743-82731707d750"
      },
      "outputs": [
        {
          "output_type": "execute_result",
          "data": {
            "text/plain": [
              "np.int64(0)"
            ]
          },
          "metadata": {},
          "execution_count": 7
        }
      ],
      "source": [
        "df.duplicated().sum()\n"
      ]
    },
    {
      "cell_type": "code",
      "execution_count": 8,
      "metadata": {
        "colab": {
          "base_uri": "https://localhost:8080/"
        },
        "id": "OGPW0cLVg4MC",
        "outputId": "4592e3ac-4b15-4650-8394-3140bfca89ed"
      },
      "outputs": [
        {
          "output_type": "execute_result",
          "data": {
            "text/plain": [
              "step              0\n",
              "type              0\n",
              "amount            0\n",
              "nameOrig          0\n",
              "oldbalanceOrg     0\n",
              "newbalanceOrig    0\n",
              "nameDest          0\n",
              "oldbalanceDest    0\n",
              "newbalanceDest    0\n",
              "isFraud           0\n",
              "isFlaggedFraud    0\n",
              "dtype: int64"
            ]
          },
          "metadata": {},
          "execution_count": 8
        }
      ],
      "source": [
        "df.isnull().sum()\n"
      ]
    },
    {
      "cell_type": "code",
      "execution_count": 9,
      "metadata": {
        "colab": {
          "base_uri": "https://localhost:8080/"
        },
        "id": "CsSXMPygg8Vk",
        "outputId": "63594b84-b244-4587-9b58-b18769c1c733"
      },
      "outputs": [
        {
          "output_type": "execute_result",
          "data": {
            "text/plain": [
              "isFraud\n",
              "0    6354407\n",
              "1       8213\n",
              "Name: count, dtype: int64"
            ]
          },
          "metadata": {},
          "execution_count": 9
        }
      ],
      "source": [
        "df['isFraud'].value_counts()\n"
      ]
    },
    {
      "cell_type": "code",
      "execution_count": 10,
      "metadata": {
        "colab": {
          "base_uri": "https://localhost:8080/",
          "height": 320
        },
        "id": "mtjx19LInQMw",
        "outputId": "a21cf824-1a3d-4aae-9556-599e85f15e7f"
      },
      "outputs": [
        {
          "output_type": "execute_result",
          "data": {
            "text/plain": [
              "                    count          mean           std  min       25%  \\\n",
              "step            6362620.0  2.433972e+02  1.423320e+02  1.0    156.00   \n",
              "amount          6362620.0  1.798619e+05  6.038582e+05  0.0  13389.57   \n",
              "oldbalanceOrg   6362620.0  8.338831e+05  2.888243e+06  0.0      0.00   \n",
              "newbalanceOrig  6362620.0  8.551137e+05  2.924049e+06  0.0      0.00   \n",
              "oldbalanceDest  6362620.0  1.100702e+06  3.399180e+06  0.0      0.00   \n",
              "newbalanceDest  6362620.0  1.224996e+06  3.674129e+06  0.0      0.00   \n",
              "isFraud         6362620.0  1.291000e-03  3.590500e-02  0.0      0.00   \n",
              "isFlaggedFraud  6362620.0  3.000000e-06  1.586000e-03  0.0      0.00   \n",
              "\n",
              "                       50%           75%           max  \n",
              "step               239.000  3.350000e+02  7.430000e+02  \n",
              "amount           74871.940  2.087215e+05  9.244552e+07  \n",
              "oldbalanceOrg    14208.000  1.073152e+05  5.958504e+07  \n",
              "newbalanceOrig       0.000  1.442584e+05  4.958504e+07  \n",
              "oldbalanceDest  132705.665  9.430367e+05  3.560159e+08  \n",
              "newbalanceDest  214661.440  1.111909e+06  3.561793e+08  \n",
              "isFraud              0.000  0.000000e+00  1.000000e+00  \n",
              "isFlaggedFraud       0.000  0.000000e+00  1.000000e+00  "
            ],
            "text/html": [
              "<div>\n",
              "<style scoped>\n",
              "    .dataframe tbody tr th:only-of-type {\n",
              "        vertical-align: middle;\n",
              "    }\n",
              "\n",
              "    .dataframe tbody tr th {\n",
              "        vertical-align: top;\n",
              "    }\n",
              "\n",
              "    .dataframe thead th {\n",
              "        text-align: right;\n",
              "    }\n",
              "</style>\n",
              "<table border=\"1\" class=\"dataframe\">\n",
              "  <thead>\n",
              "    <tr style=\"text-align: right;\">\n",
              "      <th></th>\n",
              "      <th>count</th>\n",
              "      <th>mean</th>\n",
              "      <th>std</th>\n",
              "      <th>min</th>\n",
              "      <th>25%</th>\n",
              "      <th>50%</th>\n",
              "      <th>75%</th>\n",
              "      <th>max</th>\n",
              "    </tr>\n",
              "  </thead>\n",
              "  <tbody>\n",
              "    <tr>\n",
              "      <th>step</th>\n",
              "      <td>6362620.0</td>\n",
              "      <td>2.433972e+02</td>\n",
              "      <td>1.423320e+02</td>\n",
              "      <td>1.0</td>\n",
              "      <td>156.00</td>\n",
              "      <td>239.000</td>\n",
              "      <td>3.350000e+02</td>\n",
              "      <td>7.430000e+02</td>\n",
              "    </tr>\n",
              "    <tr>\n",
              "      <th>amount</th>\n",
              "      <td>6362620.0</td>\n",
              "      <td>1.798619e+05</td>\n",
              "      <td>6.038582e+05</td>\n",
              "      <td>0.0</td>\n",
              "      <td>13389.57</td>\n",
              "      <td>74871.940</td>\n",
              "      <td>2.087215e+05</td>\n",
              "      <td>9.244552e+07</td>\n",
              "    </tr>\n",
              "    <tr>\n",
              "      <th>oldbalanceOrg</th>\n",
              "      <td>6362620.0</td>\n",
              "      <td>8.338831e+05</td>\n",
              "      <td>2.888243e+06</td>\n",
              "      <td>0.0</td>\n",
              "      <td>0.00</td>\n",
              "      <td>14208.000</td>\n",
              "      <td>1.073152e+05</td>\n",
              "      <td>5.958504e+07</td>\n",
              "    </tr>\n",
              "    <tr>\n",
              "      <th>newbalanceOrig</th>\n",
              "      <td>6362620.0</td>\n",
              "      <td>8.551137e+05</td>\n",
              "      <td>2.924049e+06</td>\n",
              "      <td>0.0</td>\n",
              "      <td>0.00</td>\n",
              "      <td>0.000</td>\n",
              "      <td>1.442584e+05</td>\n",
              "      <td>4.958504e+07</td>\n",
              "    </tr>\n",
              "    <tr>\n",
              "      <th>oldbalanceDest</th>\n",
              "      <td>6362620.0</td>\n",
              "      <td>1.100702e+06</td>\n",
              "      <td>3.399180e+06</td>\n",
              "      <td>0.0</td>\n",
              "      <td>0.00</td>\n",
              "      <td>132705.665</td>\n",
              "      <td>9.430367e+05</td>\n",
              "      <td>3.560159e+08</td>\n",
              "    </tr>\n",
              "    <tr>\n",
              "      <th>newbalanceDest</th>\n",
              "      <td>6362620.0</td>\n",
              "      <td>1.224996e+06</td>\n",
              "      <td>3.674129e+06</td>\n",
              "      <td>0.0</td>\n",
              "      <td>0.00</td>\n",
              "      <td>214661.440</td>\n",
              "      <td>1.111909e+06</td>\n",
              "      <td>3.561793e+08</td>\n",
              "    </tr>\n",
              "    <tr>\n",
              "      <th>isFraud</th>\n",
              "      <td>6362620.0</td>\n",
              "      <td>1.291000e-03</td>\n",
              "      <td>3.590500e-02</td>\n",
              "      <td>0.0</td>\n",
              "      <td>0.00</td>\n",
              "      <td>0.000</td>\n",
              "      <td>0.000000e+00</td>\n",
              "      <td>1.000000e+00</td>\n",
              "    </tr>\n",
              "    <tr>\n",
              "      <th>isFlaggedFraud</th>\n",
              "      <td>6362620.0</td>\n",
              "      <td>3.000000e-06</td>\n",
              "      <td>1.586000e-03</td>\n",
              "      <td>0.0</td>\n",
              "      <td>0.00</td>\n",
              "      <td>0.000</td>\n",
              "      <td>0.000000e+00</td>\n",
              "      <td>1.000000e+00</td>\n",
              "    </tr>\n",
              "  </tbody>\n",
              "</table>\n",
              "</div>"
            ]
          },
          "metadata": {},
          "execution_count": 10
        }
      ],
      "source": [
        "df.describe().transpose()\n"
      ]
    },
    {
      "cell_type": "code",
      "execution_count": 11,
      "metadata": {
        "colab": {
          "base_uri": "https://localhost:8080/"
        },
        "id": "_QCobcONbHVo",
        "outputId": "6930864f-c05e-4fb6-c020-e13d789d1c1e"
      },
      "outputs": [
        {
          "output_type": "stream",
          "name": "stdout",
          "text": [
            "5\n"
          ]
        }
      ],
      "source": [
        "print(df['type'].nunique())\n"
      ]
    },
    {
      "cell_type": "code",
      "execution_count": 12,
      "metadata": {
        "id": "3LVpk31zciZ6"
      },
      "outputs": [],
      "source": [
        "df = cudf.get_dummies(df, columns=['type'])"
      ]
    },
    {
      "cell_type": "code",
      "execution_count": 13,
      "metadata": {
        "colab": {
          "base_uri": "https://localhost:8080/",
          "height": 226
        },
        "id": "LZzE7t9Fcprb",
        "outputId": "c63a9bb2-bf64-43f9-eb6c-ccc1477ecda5"
      },
      "outputs": [
        {
          "output_type": "execute_result",
          "data": {
            "text/plain": [
              "   step    amount     nameOrig  oldbalanceOrg  newbalanceOrig     nameDest  \\\n",
              "0     1   9839.64  C1231006815       170136.0       160296.36  M1979787155   \n",
              "1     1   1864.28  C1666544295        21249.0        19384.72  M2044282225   \n",
              "2     1    181.00  C1305486145          181.0            0.00   C553264065   \n",
              "3     1    181.00   C840083671          181.0            0.00    C38997010   \n",
              "4     1  11668.14  C2048537720        41554.0        29885.86  M1230701703   \n",
              "\n",
              "   oldbalanceDest  newbalanceDest  isFraud  isFlaggedFraud  type_CASH_IN  \\\n",
              "0             0.0             0.0        0               0         False   \n",
              "1             0.0             0.0        0               0         False   \n",
              "2             0.0             0.0        1               0         False   \n",
              "3         21182.0             0.0        1               0         False   \n",
              "4             0.0             0.0        0               0         False   \n",
              "\n",
              "   type_CASH_OUT  type_DEBIT  type_PAYMENT  type_TRANSFER  \n",
              "0          False       False          True          False  \n",
              "1          False       False          True          False  \n",
              "2          False       False         False           True  \n",
              "3           True       False         False          False  \n",
              "4          False       False          True          False  "
            ],
            "text/html": [
              "<div>\n",
              "<style scoped>\n",
              "    .dataframe tbody tr th:only-of-type {\n",
              "        vertical-align: middle;\n",
              "    }\n",
              "\n",
              "    .dataframe tbody tr th {\n",
              "        vertical-align: top;\n",
              "    }\n",
              "\n",
              "    .dataframe thead th {\n",
              "        text-align: right;\n",
              "    }\n",
              "</style>\n",
              "<table border=\"1\" class=\"dataframe\">\n",
              "  <thead>\n",
              "    <tr style=\"text-align: right;\">\n",
              "      <th></th>\n",
              "      <th>step</th>\n",
              "      <th>amount</th>\n",
              "      <th>nameOrig</th>\n",
              "      <th>oldbalanceOrg</th>\n",
              "      <th>newbalanceOrig</th>\n",
              "      <th>nameDest</th>\n",
              "      <th>oldbalanceDest</th>\n",
              "      <th>newbalanceDest</th>\n",
              "      <th>isFraud</th>\n",
              "      <th>isFlaggedFraud</th>\n",
              "      <th>type_CASH_IN</th>\n",
              "      <th>type_CASH_OUT</th>\n",
              "      <th>type_DEBIT</th>\n",
              "      <th>type_PAYMENT</th>\n",
              "      <th>type_TRANSFER</th>\n",
              "    </tr>\n",
              "  </thead>\n",
              "  <tbody>\n",
              "    <tr>\n",
              "      <th>0</th>\n",
              "      <td>1</td>\n",
              "      <td>9839.64</td>\n",
              "      <td>C1231006815</td>\n",
              "      <td>170136.0</td>\n",
              "      <td>160296.36</td>\n",
              "      <td>M1979787155</td>\n",
              "      <td>0.0</td>\n",
              "      <td>0.0</td>\n",
              "      <td>0</td>\n",
              "      <td>0</td>\n",
              "      <td>False</td>\n",
              "      <td>False</td>\n",
              "      <td>False</td>\n",
              "      <td>True</td>\n",
              "      <td>False</td>\n",
              "    </tr>\n",
              "    <tr>\n",
              "      <th>1</th>\n",
              "      <td>1</td>\n",
              "      <td>1864.28</td>\n",
              "      <td>C1666544295</td>\n",
              "      <td>21249.0</td>\n",
              "      <td>19384.72</td>\n",
              "      <td>M2044282225</td>\n",
              "      <td>0.0</td>\n",
              "      <td>0.0</td>\n",
              "      <td>0</td>\n",
              "      <td>0</td>\n",
              "      <td>False</td>\n",
              "      <td>False</td>\n",
              "      <td>False</td>\n",
              "      <td>True</td>\n",
              "      <td>False</td>\n",
              "    </tr>\n",
              "    <tr>\n",
              "      <th>2</th>\n",
              "      <td>1</td>\n",
              "      <td>181.00</td>\n",
              "      <td>C1305486145</td>\n",
              "      <td>181.0</td>\n",
              "      <td>0.00</td>\n",
              "      <td>C553264065</td>\n",
              "      <td>0.0</td>\n",
              "      <td>0.0</td>\n",
              "      <td>1</td>\n",
              "      <td>0</td>\n",
              "      <td>False</td>\n",
              "      <td>False</td>\n",
              "      <td>False</td>\n",
              "      <td>False</td>\n",
              "      <td>True</td>\n",
              "    </tr>\n",
              "    <tr>\n",
              "      <th>3</th>\n",
              "      <td>1</td>\n",
              "      <td>181.00</td>\n",
              "      <td>C840083671</td>\n",
              "      <td>181.0</td>\n",
              "      <td>0.00</td>\n",
              "      <td>C38997010</td>\n",
              "      <td>21182.0</td>\n",
              "      <td>0.0</td>\n",
              "      <td>1</td>\n",
              "      <td>0</td>\n",
              "      <td>False</td>\n",
              "      <td>True</td>\n",
              "      <td>False</td>\n",
              "      <td>False</td>\n",
              "      <td>False</td>\n",
              "    </tr>\n",
              "    <tr>\n",
              "      <th>4</th>\n",
              "      <td>1</td>\n",
              "      <td>11668.14</td>\n",
              "      <td>C2048537720</td>\n",
              "      <td>41554.0</td>\n",
              "      <td>29885.86</td>\n",
              "      <td>M1230701703</td>\n",
              "      <td>0.0</td>\n",
              "      <td>0.0</td>\n",
              "      <td>0</td>\n",
              "      <td>0</td>\n",
              "      <td>False</td>\n",
              "      <td>False</td>\n",
              "      <td>False</td>\n",
              "      <td>True</td>\n",
              "      <td>False</td>\n",
              "    </tr>\n",
              "  </tbody>\n",
              "</table>\n",
              "</div>"
            ]
          },
          "metadata": {},
          "execution_count": 13
        }
      ],
      "source": [
        "df.head()"
      ]
    },
    {
      "cell_type": "code",
      "execution_count": 14,
      "metadata": {
        "id": "wMj9PTzkdPO0"
      },
      "outputs": [],
      "source": [
        "# Drop 'nameOrig' and 'nameDest' columns\n",
        "df = df.drop(columns=['nameOrig', 'nameDest'])\n"
      ]
    },
    {
      "cell_type": "code",
      "execution_count": 15,
      "metadata": {
        "colab": {
          "base_uri": "https://localhost:8080/",
          "height": 527
        },
        "id": "nsevY5a_yMjX",
        "outputId": "4eca8b17-007f-4839-9b7a-3caae5935328"
      },
      "outputs": [
        {
          "output_type": "display_data",
          "data": {
            "text/plain": [
              "<Figure size 1200x800 with 2 Axes>"
            ],
            "image/png": "[encoded data removed]"
          },
          "metadata": {}
        }
      ],
      "source": [
        "import matplotlib.pyplot as plt\n",
        "import seaborn as sns\n",
        "\n",
        "# 1. Use only numeric columns\n",
        "numeric_df = df.select_dtypes(include=['float64', 'int64'])\n",
        "\n",
        "# 2. Move to CPU memory (convert to pandas)\n",
        "numeric_df_cpu = numeric_df.to_pandas()\n",
        "\n",
        "# 3. Plot correlation heatmap\n",
        "plt.figure(figsize=(12, 8))\n",
        "sns.heatmap(numeric_df_cpu.corr(), annot=True, cmap='coolwarm')\n",
        "plt.title('Correlation Matrix')\n",
        "plt.show()\n"
      ]
    },
    {
      "cell_type": "code",
      "execution_count": 16,
      "metadata": {
        "colab": {
          "base_uri": "https://localhost:8080/",
          "height": 465
        },
        "id": "_phPywIoziNk",
        "outputId": "e1d86250-a647-4ac8-c199-622640a05d31"
      },
      "outputs": [
        {
          "output_type": "stream",
          "name": "stderr",
          "text": [
            "/usr/local/lib/python3.11/dist-packages/cudf/core/indexed_frame.py:3628: UserWarning: GPU-accelerated mergesort is currently not supported, defaulting to quicksort.\n",
            "  warnings.warn(\n"
          ]
        },
        {
          "output_type": "display_data",
          "data": {
            "text/plain": [
              "<Figure size 600x400 with 1 Axes>"
            ],
            "image/png": "[encoded data removed]"
          },
          "metadata": {}
        }
      ],
      "source": [
        "import matplotlib.pyplot as plt\n",
        "import seaborn as sns\n",
        "\n",
        "# Convert to pandas for seaborn plotting\n",
        "df_cpu = df.to_pandas()\n",
        "\n",
        "plt.figure(figsize=(6, 4))\n",
        "sns.countplot(data=df_cpu, x='isFraud')\n",
        "plt.title('Fraud vs Non-Fraud Count')\n",
        "plt.xlabel('isFraud')\n",
        "plt.ylabel('Count')\n",
        "plt.show()\n"
      ]
    },
    {
      "cell_type": "code",
      "execution_count": 17,
      "metadata": {
        "colab": {
          "base_uri": "https://localhost:8080/",
          "height": 445
        },
        "id": "TVH23W5Rz-ae",
        "outputId": "ecf01d2b-781b-49f3-d0ce-b53170d4a275"
      },
      "outputs": [
        {
          "output_type": "display_data",
          "data": {
            "text/plain": [
              "<Figure size 800x400 with 1 Axes>"
            ],
            "image/png": "[encoded data removed]"
          },
          "metadata": {}
        }
      ],
      "source": [
        "plt.figure(figsize=(8, 4))\n",
        "# Get the names of the dummy columns related to 'type'\n",
        "type_columns = [col for col in df_cpu.columns if col.startswith('type_')]\n",
        "\n",
        "# Plot the countplot using the dummy columns\n",
        "sns.countplot(data=df_cpu, x=df_cpu[type_columns].idxmax(axis=1).str.replace('type_', ''),\n",
        "              order=df_cpu[type_columns].idxmax(axis=1).str.replace('type_', '').value_counts().index)\n",
        "\n",
        "plt.title('Transaction Type Distribution')\n",
        "plt.xlabel('Transaction Type')\n",
        "plt.ylabel('Count')\n",
        "plt.xticks(rotation=45)\n",
        "plt.show()"
      ]
    },
    {
      "cell_type": "code",
      "execution_count": 17,
      "metadata": {
        "id": "4W7_sv6v0VC-"
      },
      "outputs": [],
      "source": []
    },
    {
      "cell_type": "code",
      "execution_count": 18,
      "metadata": {
        "colab": {
          "base_uri": "https://localhost:8080/",
          "height": 225
        },
        "id": "3EBQ2i0phYk3",
        "outputId": "f57a4386-89aa-487c-b8c4-d9b9d7e27d07"
      },
      "outputs": [
        {
          "output_type": "stream",
          "name": "stdout",
          "text": [
            "✅ Train class balance:\n",
            "isFraud\n",
            "0    991787\n",
            "1      8213\n",
            "Name: count, dtype: int64\n",
            "\n",
            "✅ Test class balance:\n",
            "isFraud\n",
            "0    50000\n",
            "Name: count, dtype: int64\n",
            "\n",
            "📁 'fraud_test_sample_50k.csv' saved.\n"
          ]
        },
        {
          "output_type": "display_data",
          "data": {
            "text/plain": [
              "<IPython.core.display.Javascript object>"
            ],
            "application/javascript": [
              "\n",
              "    async function download(id, filename, size) {\n",
              "      if (!google.colab.kernel.accessAllowed) {\n",
              "        return;\n",
              "      }\n",
              "      const div = document.createElement('div');\n",
              "      const label = document.createElement('label');\n",
              "      label.textContent = `Downloading \"${filename}\": `;\n",
              "      div.appendChild(label);\n",
              "      const progress = document.createElement('progress');\n",
              "      progress.max = size;\n",
              "      div.appendChild(progress);\n",
              "      document.body.appendChild(div);\n",
              "\n",
              "      const buffers = [];\n",
              "      let downloaded = 0;\n",
              "\n",
              "      const channel = await google.colab.kernel.comms.open(id);\n",
              "      // Send a message to notify the kernel that we're ready.\n",
              "      channel.send({})\n",
              "\n",
              "      for await (const message of channel.messages) {\n",
              "        // Send a message to notify the kernel that we're ready.\n",
              "        channel.send({})\n",
              "        if (message.buffers) {\n",
              "          for (const buffer of message.buffers) {\n",
              "            buffers.push(buffer);\n",
              "            downloaded += buffer.byteLength;\n",
              "            progress.value = downloaded;\n",
              "          }\n",
              "        }\n",
              "      }\n",
              "      const blob = new Blob(buffers, {type: 'application/binary'});\n",
              "      const a = document.createElement('a');\n",
              "      a.href = window.URL.createObjectURL(blob);\n",
              "      a.download = filename;\n",
              "      div.appendChild(a);\n",
              "      a.click();\n",
              "      div.remove();\n",
              "    }\n",
              "  "
            ]
          },
          "metadata": {}
        },
        {
          "output_type": "display_data",
          "data": {
            "text/plain": [
              "<IPython.core.display.Javascript object>"
            ],
            "application/javascript": [
              "download(\"download_1ad41d85-acb9-4b8b-82f3-f9f3793bdc59\", \"fraud_test_sample_50k.csv\", 3749769)"
            ]
          },
          "metadata": {}
        }
      ],
      "source": [
        "import cudf\n",
        "from google.colab import files\n",
        "\n",
        "# 1. Take all fraud cases\n",
        "fraud_cases = df[df['isFraud'] == 1]\n",
        "\n",
        "# 2. Decide how many non-fraud cases to sample for training\n",
        "needed_nonfraud_train = 1_000_000 - len(fraud_cases)\n",
        "\n",
        "# 3. Sample non-fraud for training\n",
        "nonfraud_train = df[df['isFraud'] == 0].sample(\n",
        "    n=needed_nonfraud_train,\n",
        "    random_state=101\n",
        ")\n",
        "\n",
        "# 4. Build training set\n",
        "df_train = cudf.concat([fraud_cases, nonfraud_train])\n",
        "\n",
        "# 5. Create a mask to exclude training rows from the full dataset\n",
        "train_ids = fraud_cases.index.append(nonfraud_train.index)\n",
        "\n",
        "# 6. Build remaining dataset (not used in training)\n",
        "df_remaining = df.drop(index=train_ids)\n",
        "\n",
        "# 7. Sample 50,000 rows from remaining for testing\n",
        "df_test = df_remaining.sample(n=50_000, random_state=99)\n",
        "\n",
        "# 8. Shuffle both training and test sets\n",
        "df_train = df_train.sample(frac=1, random_state=42)\n",
        "df_test = df_test.sample(frac=1, random_state=42)\n",
        "\n",
        "# 9. Show class balance\n",
        "print(\"✅ Train class balance:\")\n",
        "print(df_train['isFraud'].value_counts())\n",
        "print(\"\\n✅ Test class balance:\")\n",
        "print(df_test['isFraud'].value_counts())\n",
        "\n",
        "# 10. Save the test set as CSV\n",
        "df_test.to_csv('fraud_test_sample_50k.csv', index=False)\n",
        "print(\"\\n📁 'fraud_test_sample_50k.csv' saved.\")\n",
        "\n",
        "# 11. (Optional) Trigger download if in Google Colab\n",
        "try:\n",
        "    files.download('fraud_test_sample_50k.csv')\n",
        "except:\n",
        "    print(\"⚠️ Download skipped (not in Colab or browser environment).\")\n"
      ]
    },
    {
      "cell_type": "code",
      "execution_count": 19,
      "metadata": {
        "id": "JawMtugWdBaC"
      },
      "outputs": [],
      "source": [
        "target_column = 'isFraud'\n",
        "\n",
        "X = df_train.drop(columns=[target_column])\n",
        "\n",
        "y = df_train[target_column]\n"
      ]
    },
    {
      "cell_type": "code",
      "execution_count": 20,
      "metadata": {
        "colab": {
          "base_uri": "https://localhost:8080/",
          "height": 226
        },
        "id": "Kk6yn_50dm8S",
        "outputId": "1e9bb6ad-c984-4cf4-e01d-77895ea5c2ee"
      },
      "outputs": [
        {
          "output_type": "execute_result",
          "data": {
            "text/plain": [
              "         0         1         2         3         4         5      6   \\\n",
              "0  0.479648 -0.246562 -0.289828 -0.291314 -0.324922 -0.335088 -0.004   \n",
              "1  0.716823  0.795786 -0.289781 -0.049411 -0.102186 -0.322771 -0.004   \n",
              "2 -0.287684 -0.290608 -0.198442 -0.200662 -0.324922 -0.335088 -0.004   \n",
              "3  0.033200 -0.260775 -0.250967 -0.259377 -0.324922 -0.335088 -0.004   \n",
              "4  0.416866 -0.237281 -0.289967 -0.291314 -0.262818 -0.268227 -0.004   \n",
              "\n",
              "         7         8        9         10        11  \n",
              "0 -0.529237 -0.736973 -0.08146  1.405585 -0.307869  \n",
              "1  1.889513 -0.736973 -0.08146 -0.711448 -0.307869  \n",
              "2 -0.529237 -0.736973 -0.08146  1.405585 -0.307869  \n",
              "3 -0.529237 -0.736973 -0.08146  1.405585 -0.307869  \n",
              "4 -0.529237  1.356902 -0.08146 -0.711448 -0.307869  "
            ],
            "text/html": [
              "<div>\n",
              "<style scoped>\n",
              "    .dataframe tbody tr th:only-of-type {\n",
              "        vertical-align: middle;\n",
              "    }\n",
              "\n",
              "    .dataframe tbody tr th {\n",
              "        vertical-align: top;\n",
              "    }\n",
              "\n",
              "    .dataframe thead th {\n",
              "        text-align: right;\n",
              "    }\n",
              "</style>\n",
              "<table border=\"1\" class=\"dataframe\">\n",
              "  <thead>\n",
              "    <tr style=\"text-align: right;\">\n",
              "      <th></th>\n",
              "      <th>0</th>\n",
              "      <th>1</th>\n",
              "      <th>2</th>\n",
              "      <th>3</th>\n",
              "      <th>4</th>\n",
              "      <th>5</th>\n",
              "      <th>6</th>\n",
              "      <th>7</th>\n",
              "      <th>8</th>\n",
              "      <th>9</th>\n",
              "      <th>10</th>\n",
              "      <th>11</th>\n",
              "    </tr>\n",
              "  </thead>\n",
              "  <tbody>\n",
              "    <tr>\n",
              "      <th>0</th>\n",
              "      <td>0.479648</td>\n",
              "      <td>-0.246562</td>\n",
              "      <td>-0.289828</td>\n",
              "      <td>-0.291314</td>\n",
              "      <td>-0.324922</td>\n",
              "      <td>-0.335088</td>\n",
              "      <td>-0.004</td>\n",
              "      <td>-0.529237</td>\n",
              "      <td>-0.736973</td>\n",
              "      <td>-0.08146</td>\n",
              "      <td>1.405585</td>\n",
              "      <td>-0.307869</td>\n",
              "    </tr>\n",
              "    <tr>\n",
              "      <th>1</th>\n",
              "      <td>0.716823</td>\n",
              "      <td>0.795786</td>\n",
              "      <td>-0.289781</td>\n",
              "      <td>-0.049411</td>\n",
              "      <td>-0.102186</td>\n",
              "      <td>-0.322771</td>\n",
              "      <td>-0.004</td>\n",
              "      <td>1.889513</td>\n",
              "      <td>-0.736973</td>\n",
              "      <td>-0.08146</td>\n",
              "      <td>-0.711448</td>\n",
              "      <td>-0.307869</td>\n",
              "    </tr>\n",
              "    <tr>\n",
              "      <th>2</th>\n",
              "      <td>-0.287684</td>\n",
              "      <td>-0.290608</td>\n",
              "      <td>-0.198442</td>\n",
              "      <td>-0.200662</td>\n",
              "      <td>-0.324922</td>\n",
              "      <td>-0.335088</td>\n",
              "      <td>-0.004</td>\n",
              "      <td>-0.529237</td>\n",
              "      <td>-0.736973</td>\n",
              "      <td>-0.08146</td>\n",
              "      <td>1.405585</td>\n",
              "      <td>-0.307869</td>\n",
              "    </tr>\n",
              "    <tr>\n",
              "      <th>3</th>\n",
              "      <td>0.033200</td>\n",
              "      <td>-0.260775</td>\n",
              "      <td>-0.250967</td>\n",
              "      <td>-0.259377</td>\n",
              "      <td>-0.324922</td>\n",
              "      <td>-0.335088</td>\n",
              "      <td>-0.004</td>\n",
              "      <td>-0.529237</td>\n",
              "      <td>-0.736973</td>\n",
              "      <td>-0.08146</td>\n",
              "      <td>1.405585</td>\n",
              "      <td>-0.307869</td>\n",
              "    </tr>\n",
              "    <tr>\n",
              "      <th>4</th>\n",
              "      <td>0.416866</td>\n",
              "      <td>-0.237281</td>\n",
              "      <td>-0.289967</td>\n",
              "      <td>-0.291314</td>\n",
              "      <td>-0.262818</td>\n",
              "      <td>-0.268227</td>\n",
              "      <td>-0.004</td>\n",
              "      <td>-0.529237</td>\n",
              "      <td>1.356902</td>\n",
              "      <td>-0.08146</td>\n",
              "      <td>-0.711448</td>\n",
              "      <td>-0.307869</td>\n",
              "    </tr>\n",
              "  </tbody>\n",
              "</table>\n",
              "</div>"
            ]
          },
          "metadata": {},
          "execution_count": 20
        }
      ],
      "source": [
        "from cuml.preprocessing import StandardScaler\n",
        "\n",
        "scaler = StandardScaler()\n",
        "\n",
        "X_scaled = scaler.fit_transform(X)\n",
        "\n",
        "X_scaled.head()\n"
      ]
    },
    {
      "cell_type": "code",
      "execution_count": 21,
      "metadata": {
        "id": "9Yy4kGQMdGH9"
      },
      "outputs": [],
      "source": [
        "from cuml.model_selection import train_test_split\n",
        "\n",
        "X_train, X_test, y_train, y_test = train_test_split(\n",
        "    X_scaled, y, test_size=0.2, random_state=101\n",
        ")\n",
        "\n"
      ]
    },
    {
      "cell_type": "code",
      "execution_count": 22,
      "metadata": {
        "colab": {
          "base_uri": "https://localhost:8080/"
        },
        "id": "ZHMXm2J6dI9k",
        "outputId": "ba7c93a9-61f6-48f1-c95c-8c7f0c66bd0c"
      },
      "outputs": [
        {
          "output_type": "stream",
          "name": "stdout",
          "text": [
            "Training set shape: (800000, 12)\n",
            "Test set shape: (200000, 12)\n"
          ]
        }
      ],
      "source": [
        "print(\"Training set shape:\", X_train.shape)\n",
        "print(\"Test set shape:\", X_test.shape)"
      ]
    },
    {
      "cell_type": "code",
      "execution_count": 23,
      "metadata": {
        "id": "MHUxbwU3eYh7"
      },
      "outputs": [],
      "source": [
        "from cuml.svm import SVC\n",
        "\n",
        "svm_model = SVC(kernel='rbf',class_weight = 'balanced')\n",
        "\n",
        "svm_model.fit(X_train, y_train)\n",
        "\n",
        "y_pred = svm_model.predict(X_test)\n"
      ]
    },
    {
      "cell_type": "code",
      "execution_count": 24,
      "metadata": {
        "colab": {
          "base_uri": "https://localhost:8080/"
        },
        "id": "iGqnR6jMifJ5",
        "outputId": "c7b64302-89eb-4af0-f03a-fd7911c62460"
      },
      "outputs": [
        {
          "output_type": "stream",
          "name": "stdout",
          "text": [
            "Accuracy: 0.968605\n",
            "Precision: 0.19535908737360644\n",
            "Recall: 0.954401519949335\n",
            "F1 Score: 0.32433014096631874\n"
          ]
        }
      ],
      "source": [
        "# Import from sklearn, NOT from cuml\n",
        "from sklearn.metrics import accuracy_score, precision_score, recall_score, f1_score, roc_auc_score\n",
        "print(\"Accuracy:\", accuracy_score(y_test.to_pandas(), y_pred.to_pandas()))\n",
        "print(\"Precision:\", precision_score(y_test.to_pandas(), y_pred.to_pandas()))\n",
        "print(\"Recall:\", recall_score(y_test.to_pandas(), y_pred.to_pandas()))\n",
        "print(\"F1 Score:\", f1_score(y_test.to_pandas(), y_pred.to_pandas()))\n",
        "\n"
      ]
    },
    {
      "cell_type": "code",
      "source": [
        "from sklearn.metrics import confusion_matrix\n",
        "\n",
        "# Convert GPU Series to pandas (CPU)\n",
        "y_true = y_test.to_pandas()\n",
        "y_pred_cpu = y_pred.to_pandas()\n",
        "\n",
        "# Get confusion matrix\n",
        "cm = confusion_matrix(y_true, y_pred_cpu)\n",
        "\n",
        "# Unpack values\n",
        "tn, fp, fn, tp = cm.ravel()\n",
        "\n",
        "# Print values in confusion matrix format\n",
        "print(\"Confusion Matrix:\")\n",
        "print(f\"              Predicted 0    Predicted 1\")\n",
        "print(f\"Actual 0     |    {tn:>5}         {fp:>5}\")\n",
        "print(f\"Actual 1     |    {fn:>5}         {tp:>5}\")\n"
      ],
      "metadata": {
        "colab": {
          "base_uri": "https://localhost:8080/"
        },
        "id": "1sC0DFSqMzNI",
        "outputId": "f661c6ea-db18-41f7-8f54-2912c1a66ab8"
      },
      "execution_count": 25,
      "outputs": [
        {
          "output_type": "stream",
          "name": "stdout",
          "text": [
            "Confusion Matrix:\n",
            "              Predicted 0    Predicted 1\n",
            "Actual 0     |    192214          6207\n",
            "Actual 1     |       72          1507\n"
          ]
        }
      ]
    },
    {
      "cell_type": "code",
      "execution_count": 26,
      "metadata": {
        "colab": {
          "base_uri": "https://localhost:8080/"
        },
        "id": "jsnDF38JjgjN",
        "outputId": "36a53d1a-d8d7-4866-c349-e6b10b0380ba"
      },
      "outputs": [
        {
          "output_type": "stream",
          "name": "stderr",
          "text": [
            "/usr/local/lib/python3.11/dist-packages/cuml/internals/api_decorators.py:368: UserWarning: For reproducible results in Random Forest Classifier or for almost reproducible results in Random Forest Regressor, n_streams=1 is recommended. If n_streams is > 1, results may vary due to stream/thread timing differences, even when random_state is set\n",
            "  return init_func(self, *args, **kwargs)\n"
          ]
        }
      ],
      "source": [
        "from cuml.ensemble import RandomForestClassifier\n",
        "\n",
        "rf_model = RandomForestClassifier(\n",
        "    n_estimators=100,\n",
        "    max_depth=16,\n",
        "    random_state=42\n",
        ")\n",
        "\n",
        "# 2. Train the model\n",
        "rf_model.fit(X_train, y_train)\n",
        "\n",
        "# 3. Predict on test data\n",
        "y_pred_rf = rf_model.predict(X_test)\n",
        "\n",
        "\n"
      ]
    },
    {
      "cell_type": "code",
      "execution_count": 27,
      "metadata": {
        "colab": {
          "base_uri": "https://localhost:8080/"
        },
        "id": "N9HXaf1bkZU9",
        "outputId": "2d947d2c-cb60-4572-d118-3da9fd5e3756"
      },
      "outputs": [
        {
          "output_type": "stream",
          "name": "stdout",
          "text": [
            "Random Forest Metrics:\n",
            "Accuracy: 0.99789\n",
            "Precision: 0.9898391193903472\n",
            "Recall: 0.74034198860038\n",
            "F1 Score: 0.8471014492753624\n"
          ]
        }
      ],
      "source": [
        "from sklearn.metrics import accuracy_score, precision_score, recall_score, f1_score, roc_auc_score\n",
        "\n",
        "print(\"Random Forest Metrics:\")\n",
        "print(\"Accuracy:\", accuracy_score(y_test.to_pandas(), y_pred_rf.to_pandas()))\n",
        "print(\"Precision:\", precision_score(y_test.to_pandas(), y_pred_rf.to_pandas()))\n",
        "print(\"Recall:\", recall_score(y_test.to_pandas(), y_pred_rf.to_pandas()))\n",
        "print(\"F1 Score:\", f1_score(y_test.to_pandas(), y_pred_rf.to_pandas()))\n"
      ]
    },
    {
      "cell_type": "code",
      "source": [
        "from sklearn.metrics import confusion_matrix\n",
        "\n",
        "# 1. Convert predictions and labels from cuDF to pandas\n",
        "y_true_rf = y_test.to_pandas()\n",
        "y_pred_rf_cpu = y_pred_rf.to_pandas()\n",
        "\n",
        "# 2. Generate confusion matrix\n",
        "cm_rf = confusion_matrix(y_true_rf, y_pred_rf_cpu)\n",
        "\n",
        "# 3. Unpack values\n",
        "tn_rf, fp_rf, fn_rf, tp_rf = cm_rf.ravel()\n",
        "\n",
        "# 4. Print nicely\n",
        "print(\"🎯 Confusion Matrix: Random Forest\")\n",
        "print(f\"              Predicted 0    Predicted 1\")\n",
        "print(f\"Actual 0     |    {tn_rf:>5}         {fp_rf:>5}\")\n",
        "print(f\"Actual 1     |    {fn_rf:>5}         {tp_rf:>5}\")\n"
      ],
      "metadata": {
        "colab": {
          "base_uri": "https://localhost:8080/"
        },
        "id": "Ntg3p69GNBGu",
        "outputId": "6ace6ea1-b4ab-497c-94ec-283e108d0f8e"
      },
      "execution_count": 28,
      "outputs": [
        {
          "output_type": "stream",
          "name": "stdout",
          "text": [
            "🎯 Confusion Matrix: Random Forest\n",
            "              Predicted 0    Predicted 1\n",
            "Actual 0     |    198409            12\n",
            "Actual 1     |      410          1169\n"
          ]
        }
      ]
    },
    {
      "cell_type": "markdown",
      "metadata": {
        "id": "nVcsQUdN2Bu1"
      },
      "source": [
        "**XGBoost is the best model detect all frud .**"
      ]
    },
    {
      "cell_type": "code",
      "execution_count": 29,
      "metadata": {
        "colab": {
          "base_uri": "https://localhost:8080/"
        },
        "id": "jYxcmSIpsbFD",
        "outputId": "0f00814c-d9a2-4b25-b9d6-3308cd47af43"
      },
      "outputs": [
        {
          "output_type": "stream",
          "name": "stderr",
          "text": [
            "/usr/local/lib/python3.11/dist-packages/xgboost/core.py:158: UserWarning: [10:04:08] WARNING: /workspace/src/common/error_msg.cc:27: The tree method `gpu_hist` is deprecated since 2.0.0. To use GPU training, set the `device` parameter to CUDA instead.\n",
            "\n",
            "    E.g. tree_method = \"hist\", device = \"cuda\"\n",
            "\n",
            "  warnings.warn(smsg, UserWarning)\n",
            "/usr/local/lib/python3.11/dist-packages/xgboost/core.py:158: UserWarning: [10:04:08] WARNING: /workspace/src/learner.cc:740: \n",
            "Parameters: { \"predictor\" } are not used.\n",
            "\n",
            "  warnings.warn(smsg, UserWarning)\n"
          ]
        },
        {
          "output_type": "stream",
          "name": "stdout",
          "text": [
            "[0]\ttest-auc:0.97393\n",
            "[10]\ttest-auc:0.99920\n",
            "[20]\ttest-auc:0.99953\n",
            "[29]\ttest-auc:0.99952\n"
          ]
        }
      ],
      "source": [
        "import xgboost as xgb\n",
        "\n",
        "# 1. Create the DMatrix (XGBoost's optimized data format)\n",
        "dtrain = xgb.DMatrix(X_train.to_pandas(), label=y_train.to_pandas())\n",
        "dtest = xgb.DMatrix(X_test.to_pandas(), label=y_test.to_pandas())\n",
        "\n",
        "# 2. Set parameters\n",
        "params = {\n",
        "    'objective': 'binary:logistic',   # Binary classification (fraud vs non-fraud)\n",
        "    'tree_method': 'gpu_hist',         # Important: use GPU for training\n",
        "    'predictor': 'gpu_predictor',      # Use GPU for prediction\n",
        "    'scale_pos_weight': 6354407/8213,  # Very important for imbalanced dataset\n",
        "    'eval_metric': 'auc',              # AUC is a good metric for fraud\n",
        "    'random_state': 101\n",
        "}\n",
        "\n",
        "# 3. Train the model\n",
        "xgb_model = xgb.train(\n",
        "    params,\n",
        "    dtrain,\n",
        "    num_boost_round=100,\n",
        "    evals=[(dtest, 'test')],\n",
        "    early_stopping_rounds=10,\n",
        "    verbose_eval=10\n",
        ")\n"
      ]
    },
    {
      "cell_type": "code",
      "execution_count": 30,
      "metadata": {
        "colab": {
          "base_uri": "https://localhost:8080/"
        },
        "id": "iRtcPLtEtVb7",
        "outputId": "723c74f3-3965-4467-fe99-732f16b78250"
      },
      "outputs": [
        {
          "output_type": "stream",
          "name": "stdout",
          "text": [
            "XGBoost Metrics:\n",
            "Accuracy: 0.99326\n",
            "Precision: 0.539568345323741\n",
            "Recall: 0.9974667511082964\n",
            "F1 Score: 0.7003112494441974\n",
            "ROC AUC: 0.9995236409821596\n"
          ]
        },
        {
          "output_type": "stream",
          "name": "stderr",
          "text": [
            "/usr/local/lib/python3.11/dist-packages/xgboost/core.py:158: UserWarning: [10:04:10] WARNING: /workspace/src/common/error_msg.cc:27: The tree method `gpu_hist` is deprecated since 2.0.0. To use GPU training, set the `device` parameter to CUDA instead.\n",
            "\n",
            "    E.g. tree_method = \"hist\", device = \"cuda\"\n",
            "\n",
            "  warnings.warn(smsg, UserWarning)\n"
          ]
        }
      ],
      "source": [
        "# Predict labels\n",
        "y_pred_xgb = xgb_model.predict(dtest)\n",
        "y_pred_xgb_binary = (y_pred_xgb > 0.5).astype(int)\n",
        "\n",
        "from sklearn.metrics import accuracy_score, precision_score, recall_score, f1_score, roc_auc_score\n",
        "\n",
        "print(\"XGBoost Metrics:\")\n",
        "print(\"Accuracy:\", accuracy_score(y_test.to_pandas(), y_pred_xgb_binary))\n",
        "print(\"Precision:\", precision_score(y_test.to_pandas(), y_pred_xgb_binary))\n",
        "print(\"Recall:\", recall_score(y_test.to_pandas(), y_pred_xgb_binary))\n",
        "print(\"F1 Score:\", f1_score(y_test.to_pandas(), y_pred_xgb_binary))\n",
        "print(\"ROC AUC:\", roc_auc_score(y_test.to_pandas(), y_pred_xgb))\n"
      ]
    },
    {
      "cell_type": "code",
      "source": [
        "from sklearn.metrics import confusion_matrix\n",
        "import numpy as np\n",
        "\n",
        "# 1. Predict probabilities (already done during evaluation)\n",
        "y_pred_proba_xgb = xgb_model.predict(dtest)\n",
        "\n",
        "# 2. Convert to binary predictions (0 or 1) using threshold = 0.5\n",
        "y_pred_xgb = (y_pred_proba_xgb > 0.5).astype(int)\n",
        "\n",
        "# 3. Get true labels (already in y_test)\n",
        "y_true_xgb = y_test.to_pandas()\n",
        "\n",
        "# 4. Confusion matrix\n",
        "cm_xgb = confusion_matrix(y_true_xgb, y_pred_xgb)\n",
        "\n",
        "# 5. Unpack values\n",
        "tn_xgb, fp_xgb, fn_xgb, tp_xgb = cm_xgb.ravel()\n",
        "\n",
        "# 6. Print neatly\n",
        "print(\"🚀 Confusion Matrix: XGBoost\")\n",
        "print(f\"              Predicted 0    Predicted 1\")\n",
        "print(f\"Actual 0     |    {tn_xgb:>5}         {fp_xgb:>5}\")\n",
        "print(f\"Actual 1     |    {fn_xgb:>5}         {tp_xgb:>5}\")\n"
      ],
      "metadata": {
        "colab": {
          "base_uri": "https://localhost:8080/"
        },
        "id": "BR30sR6iNPGL",
        "outputId": "42cc6f9a-dd1b-4394-886d-17fc66acfdc1"
      },
      "execution_count": 31,
      "outputs": [
        {
          "output_type": "stream",
          "name": "stdout",
          "text": [
            "🚀 Confusion Matrix: XGBoost\n",
            "              Predicted 0    Predicted 1\n",
            "Actual 0     |    197077          1344\n",
            "Actual 1     |        4          1575\n"
          ]
        }
      ]
    },
    {
      "cell_type": "code",
      "execution_count": null,
      "metadata": {
        "colab": {
          "background_save": true
        },
        "id": "qfTX3WvghgFf"
      },
      "outputs": [],
      "source": [
        "#classification | SVM | RANDOMFOREST | XGBoost Classifier (GPU)"
      ]
    },
    {
      "cell_type": "code",
      "execution_count": 33,
      "metadata": {
        "id": "mjKdR34X7lhX",
        "colab": {
          "base_uri": "https://localhost:8080/"
        },
        "outputId": "13226d11-d212-4414-955f-71ac77af7b3e"
      },
      "outputs": [
        {
          "output_type": "execute_result",
          "data": {
            "text/plain": [
              "['scaler.joblib']"
            ]
          },
          "metadata": {},
          "execution_count": 33
        }
      ],
      "source": [
        "import joblib\n",
        "\n",
        "# Save the trained model\n",
        "joblib.dump(xgb_model, 'xgb_model.joblib')\n",
        "\n",
        "# Save the scaler\n",
        "joblib.dump(scaler, 'scaler.joblib')"
      ]
    },
    {
      "cell_type": "code",
      "execution_count": 35,
      "metadata": {
        "id": "RBTmNyUJ8_Vt",
        "colab": {
          "base_uri": "https://localhost:8080/"
        },
        "outputId": "9a063b9d-a43e-4ea7-fd0a-490b57d35b84"
      },
      "outputs": [
        {
          "output_type": "stream",
          "name": "stdout",
          "text": [
            "_assign_dmatrix_features\n",
            "_configure_constraints\n",
            "_get_feature_info\n",
            "_set_feature_info\n",
            "_transform_interaction_constraints\n",
            "_transform_monotone_constrains\n",
            "_validate_features\n",
            "attr\n",
            "attributes\n",
            "best_iteration\n",
            "best_score\n",
            "boost\n",
            "copy\n",
            "dump_model\n",
            "eval\n",
            "eval_set\n",
            "feature_names\n",
            "feature_types\n",
            "get_dump\n",
            "get_fscore\n",
            "get_score\n",
            "get_split_value_histogram\n",
            "handle\n",
            "inplace_predict\n",
            "load_config\n",
            "load_model\n",
            "num_boosted_rounds\n",
            "num_features\n",
            "predict\n",
            "save_config\n",
            "save_model\n",
            "save_raw\n",
            "set_attr\n",
            "set_param\n",
            "trees_to_dataframe\n",
            "update\n"
          ]
        }
      ],
      "source": [
        "\n",
        "import joblib\n",
        "\n",
        "# Load the saved model\n",
        "loaded_model = joblib.load('/content/xgb_model.joblib')\n",
        "\n",
        "# Print all attributes of the loaded model\n",
        "for attr in dir(loaded_model):\n",
        "    if not attr.startswith(\"__\"):  # Exclude special attributes\n",
        "        print(attr) # Indented this line to be inside the 'if' block"
      ]
    },
    {
      "cell_type": "code",
      "source": [
        "\n",
        "import joblib\n",
        "\n",
        "# Load the model\n",
        "loaded_model = joblib.load('xgb_model.joblib')\n",
        "\n",
        "\n",
        "# Load the scaler\n",
        "loaded_scaler = joblib.load('scaler.joblib')\n",
        "\n",
        "\n"
      ],
      "metadata": {
        "id": "wGnifQPeN4XE"
      },
      "execution_count": 39,
      "outputs": []
    },
    {
      "cell_type": "code",
      "source": [
        "import pandas as pd\n",
        "import joblib\n",
        "import cudf\n",
        "from cuml.preprocessing import StandardScaler\n",
        "from sklearn.metrics import accuracy_score, confusion_matrix\n",
        "import xgboost as xgb  # Import xgboost\n",
        "\n",
        "# 1. Load the test dataset\n",
        "df_test = pd.read_csv('/content/fraud_test_sample_50k.csv')\n",
        "\n",
        "# 2. Separate X and y\n",
        "X_test = df_test.drop(columns=['isFraud'])  # remove target column\n",
        "y_test = df_test['isFraud']                # keep it for evaluation\n",
        "\n",
        "# 3. Convert X_test to cuDF\n",
        "X_test_cudf = cudf.DataFrame.from_pandas(X_test)\n",
        "\n",
        "# 4. Load the saved model and scaler\n",
        "loaded_model = joblib.load('xgb_model.joblib')\n",
        "loaded_scaler = joblib.load('scaler.joblib')\n",
        "\n",
        "# 5. Scale the test data\n",
        "X_test_scaled = loaded_scaler.transform(X_test_cudf)\n",
        "\n",
        "# 6. Convert the scaled data to DMatrix\n",
        "# Convert the cuDF DataFrame to pandas before creating DMatrix\n",
        "X_test_scaled_pandas = X_test_scaled.to_pandas()\n",
        "dtest = xgb.DMatrix(X_test_scaled_pandas)\n",
        "\n",
        "# 7. Predict\n",
        "y_pred = loaded_model.predict(dtest) # Predict using the DMatrix\n",
        "\n",
        "# 8. Evaluate\n",
        "accuracy = accuracy_score(y_test, (y_pred > 0.5).astype(int)) # Convert predictions to binary\n",
        "print(f\"✅ Model Accuracy: {accuracy:.4f}\")\n",
        "\n",
        "# 9. Optional: Confusion Matrix\n",
        "cm = confusion_matrix(y_test, (y_pred > 0.5).astype(int))\n",
        "tn, fp, fn, tp = cm.ravel()\n",
        "\n",
        "print(\"\\n📦 Confusion Matrix:\")\n",
        "print(f\"              Predicted 0    Predicted 1\")\n",
        "print(f\"Actual 0     |    {tn:>5}         {fp:>5}\")\n",
        "print(f\"Actual 1     |    {fn:>5}         {tp:>5}\")"
      ],
      "metadata": {
        "colab": {
          "base_uri": "https://localhost:8080/"
        },
        "id": "TyO7D6V1OEhR",
        "outputId": "92ca816f-15c1-4709-d13a-ed2d57fde984"
      },
      "execution_count": 50,
      "outputs": [
        {
          "output_type": "stream",
          "name": "stdout",
          "text": [
            "✅ Model Accuracy: 0.9931\n",
            "\n",
            "📦 Confusion Matrix:\n",
            "              Predicted 0    Predicted 1\n",
            "Actual 0     |    49657           343\n",
            "Actual 1     |        0             0\n"
          ]
        },
        {
          "output_type": "stream",
          "name": "stderr",
          "text": [
            "/usr/local/lib/python3.11/dist-packages/cudf/core/dataframe.py:5571: FutureWarning: Support for loading dataframes via the `__dataframe__` interchange protocol is deprecated\n",
            "  warnings.warn(\n",
            "/usr/local/lib/python3.11/dist-packages/cudf/core/dataframe.py:7737: FutureWarning: Using `__dataframe__` is deprecated\n",
            "  warnings.warn(\"Using `__dataframe__` is deprecated\", FutureWarning)\n",
            "/usr/local/lib/python3.11/dist-packages/xgboost/core.py:158: UserWarning: [10:19:20] WARNING: /workspace/src/common/error_msg.cc:27: The tree method `gpu_hist` is deprecated since 2.0.0. To use GPU training, set the `device` parameter to CUDA instead.\n",
            "\n",
            "    E.g. tree_method = \"hist\", device = \"cuda\"\n",
            "\n",
            "  warnings.warn(smsg, UserWarning)\n"
          ]
        }
      ]
    },
    {
      "cell_type": "code",
      "source": [],
      "metadata": {
        "id": "VrMsaZi4Oei9"
      },
      "execution_count": 48,
      "outputs": []
    },
    {
      "cell_type": "code",
      "source": [],
      "metadata": {
        "id": "jpatXZPVQDg5"
      },
      "execution_count": null,
      "outputs": []
    }
  ],
  "metadata": {
    "accelerator": "GPU",
    "colab": {
      "gpuType": "T4",
      "provenance": []
    },
    "kernelspec": {
      "display_name": "Python 3",
      "name": "python3"
    },
    "language_info": {
      "name": "python"
    }
  },
  "nbformat": 4,
  "nbformat_minor": 0
}